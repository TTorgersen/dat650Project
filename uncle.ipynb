{
 "cells": [
  {
   "cell_type": "markdown",
   "metadata": {},
   "source": [
    "### Blockchain project #2\n",
    "This file will be our main file for this project. \n",
    "Lets explain our process here\n",
    "First start of with creating block and blockchain class.\n",
    "We need to force a fork such that the smaller fork can be the uncle\n",
    "implement reward.\n",
    "\n",
    "\n",
    "### Tasks: \n",
    "- model a blockchain that uses uncle and uncle rewards\n",
    "- model a rewarding mechanism to reward uncle block creators\n",
    "- model selfish mining (only one attacker) in this blockchain\n",
    "\n",
    "### Answer the following questions: \n",
    "- How do uncles improve the fairness of the blockchain? For this, you should compare the outcome of miners with and without uncles\n",
    "\n",
    "Miners with lower miningpower, that in a normal situation would be unable to gain a block. They will now with the uncle reward get rewards event thought their block was not used. This makes it so that the miningpower used for the uncle block will not all be wasted. \n",
    "\n",
    "*** \n",
    "\n",
    "- What is the impact of the uncles on selfish mining? Is selfish mining more profitable with uncles?\n",
    "\n",
    "It makes it more profitable for selfish miners, because the risk in selfish mining is that sets you at risk of losing everything. While with uncles the selfish miners will receive almost full reward, thus selfish mining is much less risky. Yes, much more.\n",
    "\n",
    "***\n",
    "\n",
    "- What does it mean in this model for the selfish mining attack to be profitable?\n",
    "\n",
    "If a selfish miner mines a block, and is not chosen to be in the longest chain. Normally the block is discarded without any reward. However with uncles, the selfish mined block will receive reward for using resources to mine a block. Therefore the selfish miner, will receive reward either if he succeeds in creating an accepted block or not. Thus selfish mining will always be \"worth the power\". "
   ]
  },
  {
   "cell_type": "markdown",
   "metadata": {},
   "source": [
    "Start off with declearing block, miner and blockchain:"
   ]
  },
  {
   "cell_type": "code",
   "execution_count": 106,
   "metadata": {},
   "outputs": [],
   "source": [
    "#import statements\n",
    "from IPython.display import HTML, display\n",
    "import hashlib as hasher\n",
    "import random\n",
    "import pandas as pd\n",
    "import matplotlib.pyplot as plt\n",
    "import statistics\n",
    "\n",
    "BASEREWARD = 10 #Base reward\n",
    "UNCLEREWARD = 5 #Base uncle reward\n",
    "NEPHEWREWARD = 2 #Base nephew reward\n",
    "def hashbits(input):\n",
    "    hash_obj = hasher.sha256()\n",
    "    inputbytes = input.encode()\n",
    "    hash_obj.update(inputbytes)\n",
    "    hashbytes = hash_obj.digest()\n",
    "    return ''.join(f'{x:08b}' for x in hashbytes)\n",
    "\n",
    "def hash(input):\n",
    "    hash_obj = hasher.sha256()\n",
    "    inputbytes = input.decode()\n",
    "    hash_obj.update(inputbytes)\n",
    "    return hash_obj.hexdigest()\n",
    "\n",
    "def numberOfInitZeros(hashStr):\n",
    "    count = 0\n",
    "    for i in range(0, len(hashStr)):\n",
    "        if hashStr[i] == '1':\n",
    "            break\n",
    "        count += 1\n",
    "    return count\n",
    "\n",
    "class Block: \n",
    "    def __init__(self, data, creator=None, previous=None, nonce=0):\n",
    "        self.data = data\n",
    "        if previous is None:\n",
    "            self.previous = None\n",
    "            self.previous_hash = \"\"\n",
    "            self.creator = Miner(0, \"0\")\n",
    "            self.height = 0\n",
    "            \n",
    "        else: \n",
    "            self.previous = previous\n",
    "            self.previous_hash = previous.hash\n",
    "            self.creator = creator\n",
    "            self.height = previous.height+1\n",
    "        self.nonce = nonce\n",
    "        self.hash = self.hash_block()\n",
    "        self.children = []\n",
    "    \n",
    "    def hash_block(self):\n",
    "        return hashbits(self.data+self.creator.name+self.previous_hash+str(self.nonce))\n",
    "\n",
    "    def print(self):\n",
    "        print(self.data+\" \"+self.creator.name+\" \"+str(self.height))\n",
    "\n",
    "class Blockchain:\n",
    "    def __init__(self, genesis_data, difficulty):\n",
    "        self.chain = []\n",
    "        self.forked = []\n",
    "        self.mainchain = []\n",
    "        self.mainchainPrint = []\n",
    "        self.uncles = []\n",
    "        self.uncleBlocks = []\n",
    "        self.chain.append(Block(genesis_data))\n",
    "        self.difficulty = difficulty\n",
    "        self.size = 0\n",
    "    \n",
    "    def longestChain(self):\n",
    "        max = self.chain[0].height\n",
    "        for block in self.chain:\n",
    "            if block.height > max:\n",
    "                max = block.height\n",
    "        maxes = [block for block in self.chain if block.height == max]\n",
    "        \n",
    "        r = random.choices(maxes, k=1)\n",
    "        return r[0]\n",
    "    \n",
    "    def add(self, newBlock):\n",
    "        self.chain.append(newBlock)\n",
    "        newBlock.previous.children.append(newBlock)\n",
    "        self.size += 1\n",
    "\n",
    "    def print(self):\n",
    "        for block in self.chain:\n",
    "            block.print()\n",
    "            print(\"______\")\n",
    "\n",
    "    def hasFork(self): #This checks if the chain has a fork        \n",
    "        for block1 in self.chain:\n",
    "            for block2 in self.chain:\n",
    "                if block1 != block2 and block1.height == block2.height:\n",
    "                    return True\n",
    "        return False\n",
    "\n",
    "    def checkMiner(self, miner):\n",
    "        last = self.longestChain()\n",
    "        count = 0\n",
    "        while last != None:\n",
    "            if last.creator == miner:\n",
    "                count += 1\n",
    "            last = last.previous\n",
    "        return count\n",
    "\n",
    "    def createMainChain(self):\n",
    "        lb = self.longestChain()\n",
    "        while lb.previous != None or lb.height ==0:\n",
    "            self.mainchain.append(lb)\n",
    "            self.mainchainPrint.append(lb.creator.name)\n",
    "            if lb.height == 0:\n",
    "                break\n",
    "            lb = lb.previous\n",
    " \n",
    "    def getUncles(self): #Append blocks that are not in mainchain to uncle list\n",
    "        for block in self.chain:\n",
    "            if block not in self.mainchain:\n",
    "                self.uncles.append(block.creator.name)\n",
    "    def getUnclesBlock(self):\n",
    "        for block in self.chain:\n",
    "            if block not in self.mainchain:\n",
    "                self.uncleBlocks.append(block)\n",
    "   \n",
    "def bitToHex(bitBlock):\n",
    "    return hex(int(bitBlock,2))\n",
    "\n",
    "class Miner:\n",
    "    def __init__(self, miningPower, name, blockchain=None):\n",
    "        self.reward = 0 # added reward attribute\n",
    "        self.miningPower = miningPower\n",
    "        self.nonce = random.randint(0,100000)\n",
    "        self.name = name\n",
    "        self.MinedLastBlock = False\n",
    "        self.blockchain = blockchain\n",
    "        self.coins = []\n",
    "        if self.blockchain != None:\n",
    "            self.lastBlock = blockchain.longestChain()\n",
    "\n",
    "    \n",
    "    def UpdateLast(self):\n",
    "        latest = self.blockchain.longestChain()             \n",
    "        if latest.height > self.lastBlock.height:\n",
    "            self.lastBlock = latest\n",
    "         \n",
    "    \n",
    "    def PoWSolver(self):\n",
    "        for i in range(0, self.miningPower):\n",
    "            newBlock = Block(str(self.blockchain.size), self, self.lastBlock, self.nonce)\n",
    "            h = newBlock.hash_block()\n",
    "            count = numberOfInitZeros(h)\n",
    "            if count >= bc.difficulty:\n",
    "                self.blockchain.add(newBlock)\n",
    "                self.lastBlock = newBlock\n",
    "                self.MinedLastBlock = True\n",
    "            self.nonce += 1\n",
    "\n",
    "\n"
   ]
  },
  {
   "cell_type": "code",
   "execution_count": 107,
   "metadata": {},
   "outputs": [],
   "source": [
    "class SelfishMiner(Miner):\n",
    "    def __init__(self, miningPower, name, blockchain=None):\n",
    "        super().__init__(miningPower, name, blockchain)\n",
    "        #self.nonce = random.randint(0,100000)\n",
    "        self.reward = 0\n",
    "        self.privateBlocks = []\n",
    "        self.publishNext = False\n",
    "\n",
    "    def UpdateLast(self):\n",
    "        latest = self.blockchain.longestChain()\n",
    "        publicheight = latest.height\n",
    "        if publicheight > self.lastBlock.height: \n",
    "            self.privateBlocks = []\n",
    "            self.lastBlock = latest\n",
    "            self.publishNext = False\n",
    "        if publicheight == self.lastBlock.height -1 and len(self.privateBlocks) > 1:\n",
    "            for block in self.privateBlocks: \n",
    "                self.blockchain.add(block)\n",
    "                self.privateBlocks = []\n",
    "        if publicheight == self.lastBlock.height:\n",
    "            for block in self.privateBlocks:\n",
    "                self.blockchain.add(block)\n",
    "                self.privateBlocks = []\n",
    "                self.publishNext = True\n",
    "\n",
    "    def PoWSolver(self):\n",
    "        for i in range (0, self.miningPower):\n",
    "            newBlock = Block(str(self.blockchain.size), self, self.lastBlock, self.nonce)\n",
    "            h = newBlock.hash_block()\n",
    "            count = numberOfInitZeros(h)\n",
    "            if count >= bc.difficulty:\n",
    "                if self.publishNext:\n",
    "                    self.blockchain.add(newBlock)\n",
    "                    self.publishNext = False\n",
    "                else: \n",
    "                    self.privateBlocks.append(newBlock)\n",
    "                self.lastBlock = newBlock\n",
    "            self.nonce += 1\n",
    "\n",
    "def attackerHasControl(blockchain, attacker):\n",
    "    if blockchain.longestChain().creator == attacker: \n",
    "        return True\n",
    "    return False"
   ]
  },
  {
   "cell_type": "code",
   "execution_count": 108,
   "metadata": {},
   "outputs": [],
   "source": [
    "#Drawing the blockchain\n",
    "def maxHeight(parent):\n",
    "  if len(parent.children) == 0:\n",
    "    return parent.height \n",
    "  max = 0\n",
    "  for child in parent.children:\n",
    "    m = maxHeight(child)\n",
    "    if m> max:\n",
    "      max = m\n",
    "  return max\n",
    "  \n",
    "\n",
    "def drawBlockchain(parent, level, html, parentLevel, childN = 0, total = 0):\n",
    "  color = \"#AEF751\"\n",
    "  if parentLevel!=-1:\n",
    "    color = \"#7EDBF6\"\n",
    "  elif type(parent.creator) is SelfishMiner:\n",
    "      color = \"#F59AEE\"\n",
    "  parent.children.sort(key=lambda x: (maxHeight(x)), reverse=True)\n",
    "  xx = childN\n",
    "  level += childN\n",
    "  html += '<g>'\n",
    "  html += '<rect x=\"'+str(30+ 100*parent.height)+'\" y=\"'+str(30+ 100*level)+'\" width=\"60\" height=\"60\" stroke=\"black\" stroke-width=\"1\" fill=\"'+color+'\" />'\n",
    "  html += '<text x=\"'+str((60+ 100*parent.height))+'\" y=\"'+str((60+ 100*level))+'\" dominant-baseline=\"middle\" text-anchor=\"middle\" font-family=\"Verdana\" font-size=\"10\" font-weight=\"bold\" fill=\"black\">'+str(parent.creator.name)+'</text>'\n",
    "  if parentLevel != -1:\n",
    "    if (parent.previous.children.index(parent)) == 0:\n",
    "      html += '<line stroke-width=\"1px\" stroke=\"#000000\"  x1='+str(30+ 100*parent.height)+' y1=\"'+str(60+ 100*level)+'\" x2=\"'+str(95+ 100*parent.previous.height)+'\" y2=\"'+str(60+ 100*parentLevel)+'\" style=\"marker-end: url(#markerArrow)\"/>'\n",
    "    else:\n",
    "      html += '<line stroke-width=\"1px\" stroke=\"#000000\"  x1='+str(30+ 100*parent.height)+' y1=\"'+str(60+ 100*level)+'\" x2=\"'+str(65+ 100*parent.previous.height)+'\" y2=\"'+str(95+ 100*parentLevel)+'\" style=\"marker-end: url(#markerArrow)\"/>'\n",
    "  html += '</g>'\n",
    "  l = level\n",
    "  childN = 0\n",
    "  for child in parent.children:\n",
    "    html,n, t = drawBlockchain(child, l, html, level, childN, total)\n",
    "    if n > 0:\n",
    "      childN += n\n",
    "    if t > 0:\n",
    "      total += t\n",
    "    l = l+1\n",
    "  return html, childN+ len(parent.children)-1, total+ len(parent.children)-1\n",
    "\n",
    "\n",
    "def show(bc):\n",
    "  htmll = \"\"\n",
    "  html = \"\"\n",
    "  htmll, n, t = drawBlockchain(bc.chain[0], 0, html, -1)\n",
    "  html = '<svg height=\"'+str(115*(n+1))+'\" width=\"'+str(115*maxHeight(bc.chain[0]))+'\">'\n",
    "  html += '<defs><marker id=\"markerArrow\" markerWidth=\"10\" markerHeight=\"10\" refX=\"2\" refY=\"6\" orient=\"auto\"><path d=\"M2,2 L2,11 L10,6 L2,2\" style=\"fill: #000000;\" /> </marker> </defs>'\n",
    "  html += htmll\n",
    "  html += '</svg>'\n",
    "  display(HTML(html))"
   ]
  },
  {
   "cell_type": "code",
   "execution_count": 283,
   "metadata": {},
   "outputs": [],
   "source": [
    "# a simple function calculating base rewards not worrying about uncle\n",
    "def calculateBaseRewards(miners, mainchain):\n",
    "  for minerName in mainchain:\n",
    "    for miner in miners: \n",
    "      if miner.name == minerName:\n",
    "        miner.reward += BASEREWARD\n",
    "        miner.coins.append(miner.reward)\n",
    "\n",
    "# calculating unclerewards\n",
    "def calculateUncleRewards(miners, uncleChain, mainchain):\n",
    "  \n",
    "  for block in uncleChain:  \n",
    "    minerName = block.creator.name \n",
    "    height = block.height \n",
    "    for mainBlock in mainchain:\n",
    "      if mainBlock.height == height:\n",
    "        nephewName = mainBlock.creator.name\n",
    "\n",
    "    for miner in miners: \n",
    "      if miner.name == minerName:\n",
    "        miner.reward += UNCLEREWARD\n",
    "        miner.coins.append(miner.reward)\n",
    "      \n",
    "      if miner.name == nephewName:\n",
    "        miner.reward += NEPHEWREWARD\n",
    "        miner.coins.append(miner.reward)\n",
    "\n",
    "  \n",
    "\n",
    "def showRewards(miners):\n",
    "  for m in miners:\n",
    "    print(m.name,\" earned: \", m.reward,\" coins\")\n",
    "\n",
    "def visualizeRewards(miners, withOrWithout):\n",
    "  names = []\n",
    "  coins = []\n",
    "  for m in miners:\n",
    "    names.append(m.name)\n",
    "    coins.append(m.reward)\n",
    "\n",
    "  plotdata = pd.DataFrame({\"coins\": coins}, index= names)\n",
    "  average=  sum(coins)/len(coins)\n",
    "  \n",
    "  s = \"Coins rewarded \"+ withOrWithout+ \" uncle reward : \"+ str(sum(coins))+\" average: \" + str(average)  + \" SD: \" + str(\"{:.3f}\".format(statistics.stdev(coins)))\n",
    " # plotdata.append(plotdata.mean())\n",
    "  plotdata.plot(kind=\"bar\", xlabel= \"miners\", ylabel=\"reward\", title= s)\n",
    "\n",
    "  ## Trying to plot lines of coins\n",
    "def visualizeLines(miners):\n",
    "  allCoins = []\n",
    "  for m in miners: \n",
    "    allCoins.append(m.coins)\n",
    "  miner = 0\n",
    "  for wallet in allCoins: \n",
    "    miner += 1\n",
    "    if miner == 16:\n",
    "      miner = \"selfish\"\n",
    "    timefilteredForce = plt.plot(wallet)\n",
    "    timefilteredForce = plt.xlabel(\"Nr of blocks mined\")\n",
    "    timefilteredForce = plt.ylabel(\"Money\")\n",
    "    timefilteredForce = plt.title(\"Evolution of coins\")\n",
    "  plt.legend()\n",
    "  plt.show() \n",
    "\n",
    "def visualizeDifferentMiners(miners):\n",
    "  allCoins = []\n",
    "  for m in miners: \n",
    "    allCoins.append(m.coins)\n",
    "  miner = 0\n",
    "  minerName = \"\"\n",
    "  for wallet in allCoins: \n",
    "    miner += 1\n",
    "    if miner == 1:\n",
    "      minerName = \"Miner m1\"\n",
    "    if miner == 2: \n",
    "      minerName = \"Selfish miner\"\n",
    "    if miner == 3: \n",
    "        minerName = \"BIG miner\"\n",
    "    if miner == 4: \n",
    "        minerName = \"Uncle miner\"\n",
    "    timefilteredForce = plt.plot(wallet, label=\"%s\"%minerName)\n",
    "    timefilteredForce = plt.xlabel(\"Nr of blocks mined\")\n",
    "    timefilteredForce = plt.ylabel(\"Money\")\n",
    "    timefilteredForce = plt.title(\"Evolution of coins\")\n",
    "  plt.legend()\n",
    "  plt.show() \n",
    "\n",
    "def visualiseVS(miners):\n",
    "  allCoins = []\n",
    "  avgMiner = []\n",
    "  maxLength = 0\n",
    "  for miner in range(0, len(miners)-1) : \n",
    "    if len(miners[miner].coins) > maxLength: \n",
    "      maxLength = len(miners[miner].coins)\n",
    "\n",
    "  placeholder = [0]*maxLength\n",
    "  print(maxLength)\n",
    " \n",
    "  for coinPlace in range(0, len(placeholder)): # For all miners available\n",
    "      minernr = 0\n",
    "      for m in miners: \n",
    "        minernr+=1\n",
    "        if minernr < 16: # 16 = selfish\n",
    "          if len(m.coins) > coinPlace:\n",
    "            placeholder[coinPlace] += m.coins[coinPlace]\n",
    "          \n",
    "  avgCoin = 0\n",
    "  for i in range(0,len(placeholder)):\n",
    "    avgCoin += placeholder[i]/(len(miners)-1)\n",
    "    avgMiner.append(avgCoin)\n",
    "    #avgMiner.append(avgCoin)\n",
    "  print(avgMiner)\n",
    "  for m in miners: \n",
    "    allCoins.append(m.coins)\n",
    "  allCoins.append(avgMiner)\n",
    "  miner = 0\n",
    "  for wallet in allCoins: \n",
    "    miner += 1\n",
    "    if miner == 16:\n",
    "      miner = \"selfish\"\n",
    "      print(len(wallet))\n",
    "      timefilteredForce = plt.plot(wallet, label=\"miner %s\"%miner)\n",
    "      timefilteredForce = plt.xlabel(\"Nr of blocks mined\")\n",
    "      timefilteredForce = plt.ylabel(\"Money\")\n",
    "      timefilteredForce = plt.title(\"Evolution of coins\")\n",
    "      miner = 16\n",
    "    if miner == 17: \n",
    "      miner = \"Average miner\"\n",
    "      print(len(wallet))\n",
    "      timefilteredForce = plt.plot(wallet, label=\"miner %s\"%miner)\n",
    "      timefilteredForce = plt.xlabel(\"Nr of blocks mined\")\n",
    "      timefilteredForce = plt.ylabel(\"Money\")\n",
    "      timefilteredForce = plt.title(\"Evolution of coins\")\n",
    "\n",
    "  plt.legend()\n",
    "  plt.show() \n"
   ]
  },
  {
   "cell_type": "markdown",
   "metadata": {},
   "source": [
    "## Modelling blockchain with uncle reward"
   ]
  },
  {
   "cell_type": "code",
   "execution_count": 110,
   "metadata": {},
   "outputs": [
    {
     "data": {
      "image/png": "[encoded data removed]",
      "text/plain": [
       "<Figure size 432x288 with 1 Axes>"
      ]
     },
     "metadata": {
      "needs_background": "light"
     },
     "output_type": "display_data"
    },
    {
     "data": {
      "image/png": "[encoded data removed]",
      "text/plain": [
       "<Figure size 432x288 with 1 Axes>"
      ]
     },
     "metadata": {
      "needs_background": "light"
     },
     "output_type": "display_data"
    }
   ],
   "source": [
    "#Declearing blockchain and printing properties\n",
    "bc = Blockchain(\"0\", 5)\n",
    "miners = []\n",
    "for i in range(15):\n",
    "    m = Miner(1, \"m\"+str(i), bc)\n",
    "    miners.append(m)\n",
    "\n",
    "big = Miner(5, \"big\", bc)\n",
    "while bc.size < 301:\n",
    "    big.PoWSolver()\n",
    "\n",
    "    for m in miners:\n",
    "        m.PoWSolver()\n",
    "\n",
    "    big.UpdateLast()\n",
    "    \n",
    "    for m in miners:\n",
    "        m.UpdateLast()\n",
    "#appended to calculate rewards\n",
    "miners.append(big)\n",
    "bc.createMainChain()\n",
    "bc.getUncles()\n",
    "bc.getUnclesBlock()\n",
    "calculateBaseRewards(miners,bc.mainchainPrint)\n",
    "visualizeRewards(miners, \"without\")\n",
    "calculateUncleRewards(miners, bc.uncleBlocks, bc.mainchain)\n",
    "visualizeRewards(miners, \"with\")\n"
   ]
  },
  {
   "cell_type": "code",
   "execution_count": 111,
   "metadata": {},
   "outputs": [],
   "source": [
    "#show(bc)"
   ]
  },
  {
   "cell_type": "markdown",
   "metadata": {},
   "source": [
    "## Modelling blockchain with selfish miner and uncle rewards"
   ]
  },
  {
   "cell_type": "code",
   "execution_count": 112,
   "metadata": {},
   "outputs": [
    {
     "name": "stdout",
     "output_type": "stream",
     "text": [
      "alpha 0.10526315789473684\n"
     ]
    },
    {
     "data": {
      "image/png": "[encoded data removed]",
      "text/plain": [
       "<Figure size 432x288 with 1 Axes>"
      ]
     },
     "metadata": {
      "needs_background": "light"
     },
     "output_type": "display_data"
    },
    {
     "data": {
      "image/png": "[encoded data removed]",
      "text/plain": [
       "<Figure size 432x288 with 1 Axes>"
      ]
     },
     "metadata": {
      "needs_background": "light"
     },
     "output_type": "display_data"
    }
   ],
   "source": [
    "\n",
    "bc = Blockchain(\"0\", 5)\n",
    "miners = []\n",
    "for i in range(15):\n",
    "    m = Miner(1, \"m\"+str(i), bc)\n",
    "    miners.append(m)\n",
    "\n",
    "selfish = SelfishMiner(2,\"selfish\", bc)\n",
    "while bc.size < 301:\n",
    "    selfish.PoWSolver()\n",
    "\n",
    "    for m in miners: \n",
    "        m.PoWSolver()\n",
    "    \n",
    "    selfish.UpdateLast()\n",
    "     \n",
    "    for m in miners: \n",
    "        m.UpdateLast()\n",
    "\n",
    "\n",
    "miners.append(selfish)\n",
    "total = selfish.miningPower\n",
    "for m in miners: \n",
    "    total += m.miningPower\n",
    "print(\"alpha {}\".format(selfish.miningPower/total))\n",
    "bc.createMainChain()\n",
    "bc.getUncles()\n",
    "bc.getUnclesBlock()\n",
    "calculateBaseRewards(miners,bc.mainchainPrint)\n",
    "visualizeRewards(miners, \"without\")\n",
    "calculateUncleRewards(miners, bc.uncleBlocks, bc.mainchain)\n",
    "visualizeRewards(miners, \"with\")\n",
    "#visualizeLines(miners)\n"
   ]
  },
  {
   "cell_type": "code",
   "execution_count": 113,
   "metadata": {},
   "outputs": [],
   "source": [
    "#show(bc)"
   ]
  },
  {
   "cell_type": "markdown",
   "metadata": {},
   "source": [
    "## Plotting wrong values (Uncle+Neph > BlockReward)\n"
   ]
  },
  {
   "cell_type": "markdown",
   "metadata": {},
   "source": [
    "### Uncle: 10, Neph: 2, Block: 5"
   ]
  },
  {
   "cell_type": "code",
   "execution_count": 114,
   "metadata": {},
   "outputs": [
    {
     "name": "stdout",
     "output_type": "stream",
     "text": [
      "alpha 0.10526315789473684\n"
     ]
    },
    {
     "data": {
      "image/png": "[encoded data removed]",
      "text/plain": [
       "<Figure size 432x288 with 1 Axes>"
      ]
     },
     "metadata": {
      "needs_background": "light"
     },
     "output_type": "display_data"
    }
   ],
   "source": [
    "BASEREWARD = 5\n",
    "UNCLEREWARD = 10\n",
    "NEPHEWREWARD = 2\n",
    "bc = Blockchain(\"0\", 5)\n",
    "miners = []\n",
    "for i in range(15):\n",
    "    m = Miner(1, \"m\"+str(i), bc)\n",
    "    miners.append(m)\n",
    "\n",
    "selfish = SelfishMiner(2,\"selfish\", bc)\n",
    "while bc.size < 301:\n",
    "    selfish.PoWSolver()\n",
    "\n",
    "    for m in miners: \n",
    "        m.PoWSolver()\n",
    "    \n",
    "    selfish.UpdateLast()\n",
    "     \n",
    "    for m in miners: \n",
    "        m.UpdateLast()\n",
    "\n",
    "\n",
    "miners.append(selfish)\n",
    "total = selfish.miningPower\n",
    "for m in miners: \n",
    "    total += m.miningPower\n",
    "print(\"alpha {}\".format(selfish.miningPower/total))\n",
    "bc.createMainChain()\n",
    "bc.getUncles()\n",
    "bc.getUnclesBlock()\n",
    "calculateBaseRewards(miners,bc.mainchainPrint)\n",
    "calculateUncleRewards(miners, bc.uncleBlocks, bc.mainchain)\n",
    "visualizeRewards(miners, \"with max\")\n"
   ]
  },
  {
   "cell_type": "markdown",
   "metadata": {},
   "source": [
    "### Uncle: 5, Neph: 10, Block: 2"
   ]
  },
  {
   "cell_type": "code",
   "execution_count": 115,
   "metadata": {},
   "outputs": [
    {
     "name": "stdout",
     "output_type": "stream",
     "text": [
      "alpha 0.10526315789473684\n"
     ]
    },
    {
     "data": {
      "image/png": "[encoded data removed]",
      "text/plain": [
       "<Figure size 432x288 with 1 Axes>"
      ]
     },
     "metadata": {
      "needs_background": "light"
     },
     "output_type": "display_data"
    }
   ],
   "source": [
    "BASEREWARD = 2\n",
    "UNCLEREWARD = 5\n",
    "NEPHEWREWARD = 10\n",
    "bc = Blockchain(\"0\", 5)\n",
    "miners = []\n",
    "for i in range(15):\n",
    "    m = Miner(1, \"m\"+str(i), bc)\n",
    "    miners.append(m)\n",
    "\n",
    "selfish = SelfishMiner(2,\"selfish\", bc)\n",
    "while bc.size < 301:\n",
    "    selfish.PoWSolver()\n",
    "\n",
    "    for m in miners: \n",
    "        m.PoWSolver()\n",
    "    \n",
    "    selfish.UpdateLast()\n",
    "     \n",
    "    for m in miners: \n",
    "        m.UpdateLast()\n",
    "\n",
    "\n",
    "miners.append(selfish)\n",
    "total = selfish.miningPower\n",
    "for m in miners: \n",
    "    total += m.miningPower\n",
    "print(\"alpha {}\".format(selfish.miningPower/total))\n",
    "bc.createMainChain()\n",
    "bc.getUncles()\n",
    "bc.getUnclesBlock()\n",
    "calculateBaseRewards(miners,bc.mainchainPrint)\n",
    "calculateUncleRewards(miners, bc.uncleBlocks, bc.mainchain)\n",
    "visualizeRewards(miners, \"with neph max\")"
   ]
  },
  {
   "cell_type": "markdown",
   "metadata": {},
   "source": [
    "### Conclusion to changing reward placement\n"
   ]
  },
  {
   "cell_type": "markdown",
   "metadata": {},
   "source": [
    "## Plotting reward over time"
   ]
  },
  {
   "cell_type": "code",
   "execution_count": 285,
   "metadata": {},
   "outputs": [
    {
     "name": "stderr",
     "output_type": "stream",
     "text": [
      "No handles with labels found to put in legend.\n"
     ]
    },
    {
     "name": "stdout",
     "output_type": "stream",
     "text": [
      "alpha 0.10526315789473684\n"
     ]
    },
    {
     "data": {
      "image/png": "[encoded data removed]",
      "text/plain": [
       "<Figure size 432x288 with 1 Axes>"
      ]
     },
     "metadata": {
      "needs_background": "light"
     },
     "output_type": "display_data"
    }
   ],
   "source": [
    "BASEREWARD = 10\n",
    "UNCLEREWARD = 5\n",
    "NEPHEWREWARD = 2\n",
    "\n",
    "bc = Blockchain(\"0\", 5)\n",
    "miners = []\n",
    "for i in range(15):\n",
    "    m = Miner(1, \"m\"+str(i), bc)\n",
    "    miners.append(m)\n",
    "\n",
    "selfish = SelfishMiner(2,\"selfish\", bc)\n",
    "while bc.size < 301:\n",
    "    selfish.PoWSolver()\n",
    "\n",
    "    for m in miners: \n",
    "        m.PoWSolver()\n",
    "    \n",
    "    selfish.UpdateLast()\n",
    "     \n",
    "    for m in miners: \n",
    "        m.UpdateLast()\n",
    "\n",
    "miners.append(selfish)\n",
    "total = selfish.miningPower\n",
    "for m in miners: \n",
    "    total += m.miningPower\n",
    "print(\"alpha {}\".format(selfish.miningPower/total))\n",
    "bc.createMainChain()\n",
    "bc.getUncles()\n",
    "bc.getUnclesBlock()\n",
    "calculateUncleRewards(miners, bc.uncleBlocks, bc.mainchain)\n",
    "visualizeLines(miners)"
   ]
  },
  {
   "cell_type": "markdown",
   "metadata": {},
   "source": [
    "## Plotting reward over time Selfish VS Average miner"
   ]
  },
  {
   "cell_type": "code",
   "execution_count": 284,
   "metadata": {},
   "outputs": [
    {
     "name": "stdout",
     "output_type": "stream",
     "text": [
      "alpha 0.10526315789473684\n",
      "12\n",
      "[3.8, 11.2, 22.0, 33.2, 47.800000000000004, 61.800000000000004, 73.13333333333334, 86.2, 96.0, 106.86666666666667, 111.80000000000001, 117.00000000000001]\n",
      "33\n",
      "12\n"
     ]
    },
    {
     "data": {
      "image/png": "[encoded data removed]",
      "text/plain": [
       "<Figure size 432x288 with 1 Axes>"
      ]
     },
     "metadata": {
      "needs_background": "light"
     },
     "output_type": "display_data"
    }
   ],
   "source": [
    "BASEREWARD = 10\n",
    "UNCLEREWARD = 5\n",
    "NEPHEWREWARD = 2\n",
    "\n",
    "bc = Blockchain(\"0\", 5)\n",
    "miners = []\n",
    "for i in range(15):\n",
    "    m = Miner(1, \"m\"+str(i), bc)\n",
    "    miners.append(m)\n",
    "\n",
    "selfish = SelfishMiner(2,\"selfish\", bc)\n",
    "while bc.size < 301:\n",
    "    selfish.PoWSolver()\n",
    "\n",
    "    for m in miners: \n",
    "        m.PoWSolver()\n",
    "    \n",
    "    selfish.UpdateLast()\n",
    "     \n",
    "    for m in miners: \n",
    "        m.UpdateLast()\n",
    "\n",
    "miners.append(selfish)\n",
    "total = selfish.miningPower\n",
    "for m in miners: \n",
    "    total += m.miningPower\n",
    "print(\"alpha {}\".format(selfish.miningPower/total))\n",
    "bc.createMainChain()\n",
    "bc.getUncles()\n",
    "bc.getUnclesBlock()\n",
    "calculateBaseRewards(miners, bc.mainchain)\n",
    "calculateUncleRewards(miners, bc.uncleBlocks, bc.mainchain)\n",
    "visualiseVS(miners)"
   ]
  },
  {
   "cell_type": "markdown",
   "metadata": {},
   "source": [
    "## Big Vs Uncle Vs Selfish Vs Random miner"
   ]
  },
  {
   "cell_type": "code",
   "execution_count": 280,
   "metadata": {},
   "outputs": [
    {
     "data": {
      "image/png": "[encoded data removed]",
      "text/plain": [
       "<Figure size 432x288 with 1 Axes>"
      ]
     },
     "metadata": {
      "needs_background": "light"
     },
     "output_type": "display_data"
    }
   ],
   "source": [
    "BASEREWARD = 10\n",
    "UNCLEREWARD = 5\n",
    "NEPHEWREWARD = 2\n",
    "\n",
    "bc = Blockchain(\"0\", 5)\n",
    "miners = []\n",
    "m = Miner(1, \"m1\", bc)\n",
    "selfish = SelfishMiner(2,\"selfish\", bc)\n",
    "big = Miner(5, \"Big\", bc)\n",
    "while bc.size < 301:\n",
    "    selfish.PoWSolver()\n",
    "    m.PoWSolver()\n",
    "    big.PoWSolver()\n",
    "    \n",
    "    selfish.UpdateLast()\n",
    "    m.UpdateLast()\n",
    "    big.UpdateLast()\n",
    "\n",
    "miners.append(m)\n",
    "miners.append(selfish)\n",
    "miners.append(big)\n",
    "bc.createMainChain()\n",
    "bc.getUncles()\n",
    "bc.getUnclesBlock()\n",
    "calculateBaseRewards(miners, bc.mainchain)\n",
    "calculateUncleRewards(miners, bc.uncleBlocks, bc.mainchain)\n",
    "visualizeDifferentMiners(miners)"
   ]
  }
 ],
 "metadata": {
  "interpreter": {
   "hash": "2db524e06e9f5f4ffedc911c917cb75e12dbc923643829bf417064a77eb14d37"
  },
  "kernelspec": {
   "display_name": "Python 3.8.3 64-bit",
   "name": "python3"
  },
  "language_info": {
   "codemirror_mode": {
    "name": "ipython",
    "version": 3
   },
   "file_extension": ".py",
   "mimetype": "text/x-python",
   "name": "python",
   "nbconvert_exporter": "python",
   "pygments_lexer": "ipython3",
   "version": "3.8.3"
  },
  "orig_nbformat": 4
 },
 "nbformat": 4,
 "nbformat_minor": 2
}
